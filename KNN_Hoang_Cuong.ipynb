{
  "cells": [
    {
      "cell_type": "markdown",
      "metadata": {
        "id": "27gUllosofBM"
      },
      "source": [
        "## Self"
      ]
    },
    {
      "cell_type": "markdown",
      "source": [
        ""
      ],
      "metadata": {
        "id": "7nwivLd_jLON"
      }
    },
    {
      "cell_type": "code",
      "execution_count": null,
      "metadata": {
        "id": "Jxm6FGnGBp7H"
      },
      "outputs": [],
      "source": [
        "# import pandas as pd \n",
        "import numpy as np"
      ]
    },
    {
      "cell_type": "code",
      "source": [
        "from google.colab import drive\n",
        "drive.mount('/content/drive')"
      ],
      "metadata": {
        "colab": {
          "base_uri": "https://localhost:8080/"
        },
        "id": "0rLWlXhqW1R2",
        "outputId": "d6155d44-9a61-443b-a501-841d34d97905"
      },
      "execution_count": null,
      "outputs": [
        {
          "output_type": "stream",
          "name": "stdout",
          "text": [
            "Mounted at /content/drive\n"
          ]
        }
      ]
    },
    {
      "cell_type": "code",
      "execution_count": null,
      "metadata": {
        "id": "qkBTOsw6Bxwi"
      },
      "outputs": [],
      "source": [
        "data = []\n",
        "features = [\"Longitudinal position of the center of buoyancy\",\n",
        "            \"Prismatic coefficient\",\n",
        "            \"Length-displacement ratio\",\n",
        "            \"Beam-draught ratio\",\n",
        "            \"Length-beam ratio\",\n",
        "            \"Froude number\",\n",
        "            \"Residuary resistance per unit weight of displacement\"]\n",
        "with open(\"/content/drive/MyDrive/Colab Notebooks/Lab 1/yacht_hydrodynamics.data\", 'r') as lines:\n",
        "  for line in lines:\n",
        "    data_point = line.split()\n",
        "    data_point = [float(element) for element in data_point] # Bước này có thể làm bằng pandas (astype())\n",
        "    if len(data_point) < 7: # Loại bỏ các data bị thiếu số liệu (xử lýtlýt)\n",
        "      break\n",
        "    data.append(data_point)"
      ]
    },
    {
      "cell_type": "code",
      "execution_count": null,
      "metadata": {
        "id": "J6RITYfH4cn6"
      },
      "outputs": [],
      "source": [
        "data = np.array(data)"
      ]
    },
    {
      "cell_type": "code",
      "execution_count": null,
      "metadata": {
        "colab": {
          "base_uri": "https://localhost:8080/"
        },
        "id": "EOA2-HAq5Mk7",
        "outputId": "d687e395-782b-4a42-9d7f-fbd11687f9cf"
      },
      "outputs": [
        {
          "output_type": "execute_result",
          "data": {
            "text/plain": [
              "(308, 7)"
            ]
          },
          "metadata": {},
          "execution_count": 5
        }
      ],
      "source": [
        "data.shape"
      ]
    },
    {
      "cell_type": "code",
      "execution_count": null,
      "metadata": {
        "id": "zCcqd4xxJVQ5"
      },
      "outputs": [],
      "source": [
        "X_data = data[:, :6]\n",
        "y_data = data[:, 6]"
      ]
    },
    {
      "cell_type": "code",
      "execution_count": null,
      "metadata": {
        "id": "0KJg-L_a4qOr"
      },
      "outputs": [],
      "source": [
        "# scaling\n",
        "from sklearn.preprocessing import MinMaxScaler\n",
        "scaler = MinMaxScaler()\n",
        "scaler.fit(X_data)\n",
        "X_data = scaler.fit_transform(X_data)"
      ]
    },
    {
      "cell_type": "code",
      "execution_count": null,
      "metadata": {
        "colab": {
          "base_uri": "https://localhost:8080/"
        },
        "id": "MdbrcpntfKLe",
        "outputId": "1a3392c0-d557-4d74-c96a-f5ac7a4acf0c"
      },
      "outputs": [
        {
          "output_type": "execute_result",
          "data": {
            "text/plain": [
              "array([[0.54      , 0.54285714, 0.55      , 0.46456693, 0.48351648,\n",
              "        0.        ],\n",
              "       [0.54      , 0.54285714, 0.55      , 0.46456693, 0.48351648,\n",
              "        0.07692308],\n",
              "       [0.54      , 0.54285714, 0.55      , 0.46456693, 0.48351648,\n",
              "        0.15384615],\n",
              "       ...,\n",
              "       [0.54      , 1.        , 0.        , 0.55905512, 0.        ,\n",
              "        0.84615385],\n",
              "       [0.54      , 1.        , 0.        , 0.55905512, 0.        ,\n",
              "        0.92307692],\n",
              "       [0.54      , 1.        , 0.        , 0.55905512, 0.        ,\n",
              "        1.        ]])"
            ]
          },
          "metadata": {},
          "execution_count": 8
        }
      ],
      "source": [
        "X_data"
      ]
    },
    {
      "cell_type": "markdown",
      "metadata": {
        "id": "9GG-73Wbpj-k"
      },
      "source": [
        "## Task 1"
      ]
    },
    {
      "cell_type": "code",
      "execution_count": null,
      "metadata": {
        "id": "EkhhYwZwi_Dk",
        "outputId": "a8b82a02-42c0-4027-c6a8-ff2ce3768ff3",
        "colab": {
          "base_uri": "https://localhost:8080/"
        }
      },
      "outputs": [
        {
          "output_type": "stream",
          "name": "stdout",
          "text": [
            "MSE from the code: 103.76\n"
          ]
        }
      ],
      "source": [
        "# KNNKNN\n",
        "def find_neighbors(k_neighbors, X, center ):\n",
        "  neighbors = []\n",
        "  for i in range(len(X)):\n",
        "    distance = np.linalg.norm(np.square(X[i] - center), axis=1)\n",
        "    weight = np.exp(-distance**2/ 0.5**2 )\n",
        "    neighbors.append([i, weight]) \n",
        "  neighbors = sorted(neighbors, key = lambda x : -x[1])\n",
        "\n",
        "  return neighbors[0:k_neighbors] # return k neighbors \n",
        "  \n",
        "def KNiegborRegressor(k_neighbors, X, y, center):\n",
        "  neighbors = find_neighbors(k_neighbors, X, center)\n",
        "  y_arr = [y[point[0]] for point in neighbors]\n",
        "  avg_y = np.mean(y_arr)\n",
        "  return avg_y\n",
        "\n",
        "\n",
        "def distNeighbours(X_train,Y_train,X_test,K):\n",
        "    distance=[]\n",
        "    for i in range(len(X_train)):\n",
        "        eDistance=0\n",
        "        for j in range(X_train.shape[1]):   \n",
        "                eDistance+=round(np.sqrt(pow((X_train[i,j]-X_test[j]),2)),2)\n",
        "        distance.append((eDistance,i,Y_train[i]))\n",
        "        distance=sorted(distance, key=lambda x: x[0])[0:K]\n",
        "    return distance\n",
        "\n",
        "def KNN_ParzenWindows(X_train,Y_train,X_test,K):\n",
        "    neighbours=[]\n",
        "    responses=[]\n",
        "    for i in range(len(X_test)):\n",
        "        neighbours.append(distNeighbours(X_train,Y_train,X_test[i,:],K))\n",
        "    for i in neighbours:\n",
        "        mean=0\n",
        "        for j in i:\n",
        "            mean+=j[-1]\n",
        "        mean=mean/K\n",
        "        responses.append(mean)\n",
        "    return responses\n",
        "\n",
        "\n",
        "# Predict GPA\n",
        "from sklearn.model_selection import train_test_split\n",
        "from sklearn import metrics\n",
        "\n",
        "\n",
        "X_train, X_test, Y_train, Y_test = train_test_split(X_data, y_data, test_size=0.3, random_state=69)\n",
        "# Predict GPA\n",
        "output=KNN_ParzenWindows(X_train,Y_train,X_test,3)\n",
        "print('MSE from the code: {:^0.2f}'.format(metrics.mean_squared_error(Y_test,output),2))"
      ]
    },
    {
      "cell_type": "markdown",
      "metadata": {
        "id": "AXJ9PmQa-Qyh"
      },
      "source": [
        "R² score, the coefficient of determination:\n",
        "\n",
        "If $\\hat{y}_i$ is the predicted value of the $i$-th sample and $y_i$ is the corresponding true value for total $n$ samples, the estimated R² is defined as:\n",
        "\n",
        "$R^2(y, \\hat{y}) = 1 - \\frac{\\sum_{i=1}^{n} (y_i - \\hat{y}_i)^2}{\\sum_{i=1}^{n} (y_i - \\bar{y})^2}$\n",
        "\n",
        "where $\\bar{y} = \\frac{1}{n} \\sum_{i=1}^{n} y_i$ and $\\sum_{i=1}^{n} (y_i - \\hat{y}_i)^2 = \\sum_{i=1}^{n} \\epsilon_i^2$\n",
        "\n",
        "Note that r2_score calculates unadjusted R² without correcting for bias in sample variance of y."
      ]
    },
    {
      "cell_type": "code",
      "execution_count": null,
      "metadata": {
        "colab": {
          "base_uri": "https://localhost:8080/"
        },
        "id": "1liytM329Qn6",
        "outputId": "830ed639-652a-495b-99a3-4dc222d488b9"
      },
      "outputs": [
        {
          "output_type": "stream",
          "name": "stdout",
          "text": [
            "R² score: 0.5399275420897462\n"
          ]
        }
      ],
      "source": [
        "# Evaluate \n",
        "from sklearn.metrics import r2_score\n",
        "print(f\"R² score: {r2_score(Y_test,output)}\")"
      ]
    },
    {
      "cell_type": "markdown",
      "metadata": {
        "id": "1O8oXnJz4AWl"
      },
      "source": [
        "### Task 2 "
      ]
    },
    {
      "cell_type": "markdown",
      "metadata": {
        "id": "ryHAJGC9i_Dm"
      },
      "source": [
        "### a: Try to tune parameter ‘k' and estimate classification or regression quality metrics"
      ]
    },
    {
      "cell_type": "code",
      "execution_count": null,
      "metadata": {
        "id": "co3JVyGki_Dm",
        "outputId": "e4e52a74-1cc7-41f2-f33e-a4e51103e513",
        "colab": {
          "base_uri": "https://localhost:8080/"
        }
      },
      "outputs": [
        {
          "output_type": "stream",
          "name": "stdout",
          "text": [
            "Requirement already satisfied: matplotlib in /usr/local/lib/python3.7/dist-packages (3.2.2)\n",
            "Requirement already satisfied: cycler>=0.10 in /usr/local/lib/python3.7/dist-packages (from matplotlib) (0.11.0)\n",
            "Requirement already satisfied: numpy>=1.11 in /usr/local/lib/python3.7/dist-packages (from matplotlib) (1.21.5)\n",
            "Requirement already satisfied: pyparsing!=2.0.4,!=2.1.2,!=2.1.6,>=2.0.1 in /usr/local/lib/python3.7/dist-packages (from matplotlib) (3.0.7)\n",
            "Requirement already satisfied: kiwisolver>=1.0.1 in /usr/local/lib/python3.7/dist-packages (from matplotlib) (1.4.0)\n",
            "Requirement already satisfied: python-dateutil>=2.1 in /usr/local/lib/python3.7/dist-packages (from matplotlib) (2.8.2)\n",
            "Requirement already satisfied: typing-extensions in /usr/local/lib/python3.7/dist-packages (from kiwisolver>=1.0.1->matplotlib) (3.10.0.2)\n",
            "Requirement already satisfied: six>=1.5 in /usr/local/lib/python3.7/dist-packages (from python-dateutil>=2.1->matplotlib) (1.15.0)\n"
          ]
        }
      ],
      "source": [
        "!pip3 install matplotlib"
      ]
    },
    {
      "cell_type": "code",
      "execution_count": null,
      "metadata": {
        "colab": {
          "base_uri": "https://localhost:8080/",
          "height": 283
        },
        "id": "9Ipu0odo3_6e",
        "outputId": "0b8e3db0-ad4e-4298-b692-d579ce36f6ba"
      },
      "outputs": [
        {
          "output_type": "execute_result",
          "data": {
            "text/plain": [
              "[<matplotlib.lines.Line2D at 0x7f804e4fb310>]"
            ]
          },
          "metadata": {},
          "execution_count": 12
        },
        {
          "output_type": "display_data",
          "data": {
            "text/plain": [
              "<Figure size 432x288 with 1 Axes>"
            ],
            "image/png": "[encoded data removed]"
          },
          "metadata": {}
        }
      ],
      "source": [
        "import matplotlib.pyplot as plt\n",
        "plt.style.use(\"ggplot\")\n",
        "r2 = []\n",
        "# train\n",
        "for i in range(1, 15):\n",
        "  output = KNN_ParzenWindows(X_train,Y_train,X_test,i)\n",
        "  r2.append(r2_score(Y_test,output))\n",
        "plt.plot(r2)\n"
      ]
    },
    {
      "cell_type": "code",
      "execution_count": null,
      "metadata": {
        "id": "JMw_E4mQi_Dn",
        "outputId": "dad6e536-4acb-4705-f382-b33a8aeddfad",
        "colab": {
          "base_uri": "https://localhost:8080/"
        }
      },
      "outputs": [
        {
          "output_type": "stream",
          "name": "stdout",
          "text": [
            "0.3913019456210386\n"
          ]
        }
      ],
      "source": [
        "### we have best k at n=6\n",
        "output = KNN_ParzenWindows(X_train,Y_train,X_test,6)\n",
        "print(r2_score(Y_test,output))"
      ]
    },
    {
      "cell_type": "markdown",
      "metadata": {
        "id": "Dzxapaj0i_Dn"
      },
      "source": [
        "### b: Implement Leave-one-out algorithm and find optimal hyperparameter ‘k' value"
      ]
    },
    {
      "cell_type": "code",
      "execution_count": null,
      "metadata": {
        "id": "txQwlTvpi_Dn",
        "outputId": "a3bf3694-74d9-40f0-a493-1772e2663094",
        "colab": {
          "base_uri": "https://localhost:8080/",
          "height": 283
        }
      },
      "outputs": [
        {
          "output_type": "execute_result",
          "data": {
            "text/plain": [
              "[<matplotlib.lines.Line2D at 0x7f804dfe87d0>]"
            ]
          },
          "metadata": {},
          "execution_count": 14
        },
        {
          "output_type": "display_data",
          "data": {
            "text/plain": [
              "<Figure size 432x288 with 1 Axes>"
            ],
            "image/png": "[encoded data removed]"
          },
          "metadata": {}
        }
      ],
      "source": [
        "import matplotlib.pyplot as plt\n",
        "import warnings\n",
        "import sklearn.exceptions\n",
        "\n",
        "warnings.filterwarnings(\"ignore\", category=sklearn.exceptions.UndefinedMetricWarning)\n",
        "\n",
        "plt.style.use(\"ggplot\")\n",
        "r2 = []\n",
        "# train\n",
        "for i in range(1, 15):\n",
        "    \n",
        "    r2_sum = 0\n",
        "    for j in range(len(X_data)):\n",
        "        \n",
        "        X_train = np.delete(X_data, j, 0)\n",
        "        Y_train = np.delete(y_data, j, 0)\n",
        "        X_test = X_data[j][np.newaxis, :]\n",
        "        Y_test = y_data[j]\n",
        "        # print(X_train.shape, X_test.shape)\n",
        "        output = KNN_ParzenWindows(X_train,Y_train,X_test, i)\n",
        "        r2_sum += metrics.mean_squared_error([Y_test], output)\n",
        "    r2.append(r2_sum/len(X_data))\n",
        "plt.plot(r2)"
      ]
    },
    {
      "cell_type": "code",
      "execution_count": null,
      "metadata": {
        "id": "fL03qxzci_Do",
        "outputId": "4f9f8f76-1874-43a7-fa3b-9c311dac4b46",
        "colab": {
          "base_uri": "https://localhost:8080/"
        }
      },
      "outputs": [
        {
          "output_type": "stream",
          "name": "stdout",
          "text": [
            "0.3956182534450441\n"
          ]
        }
      ],
      "source": [
        "### i got nan with r2_score because LOO only have 1 sample. so change the loss to MSE\n",
        "## best value is k=5\n",
        "X_train, X_test, Y_train, Y_test = train_test_split(X_data, y_data, test_size=0.3, random_state=69)\n",
        "\n",
        "output = KNN_ParzenWindows(X_train,Y_train,X_test,5)\n",
        "print(r2_score(Y_test,output))"
      ]
    },
    {
      "cell_type": "code",
      "execution_count": null,
      "metadata": {
        "id": "zvruOXu3i_Do"
      },
      "outputs": [],
      "source": [
        ""
      ]
    },
    {
      "cell_type": "markdown",
      "metadata": {
        "id": "F38-X3Msi_Do"
      },
      "source": [
        "### c:\tFor optimal ‘k' value compare your implementation with scikit-learn version of the kNN algorithm"
      ]
    },
    {
      "cell_type": "code",
      "execution_count": null,
      "metadata": {
        "id": "lTj8gag7lCau",
        "outputId": "16584cb4-ef81-4676-bbd3-c5b338154499",
        "colab": {
          "base_uri": "https://localhost:8080/",
          "height": 283
        }
      },
      "outputs": [
        {
          "output_type": "execute_result",
          "data": {
            "text/plain": [
              "[<matplotlib.lines.Line2D at 0x7f804da4f590>]"
            ]
          },
          "metadata": {},
          "execution_count": 16
        },
        {
          "output_type": "display_data",
          "data": {
            "text/plain": [
              "<Figure size 432x288 with 1 Axes>"
            ],
            "image/png": "[encoded data removed]"
          },
          "metadata": {}
        }
      ],
      "source": [
        "from sklearn.neighbors import KNeighborsRegressor\n",
        "from sklearn import metrics\n",
        "import matplotlib.pyplot as plt\n",
        "plt.style.use(\"ggplot\")\n",
        "r2 = []\n",
        "# train\n",
        "\n",
        "for i in range(1, 15):\n",
        "  model = KNeighborsRegressor(n_neighbors=i).fit(X_train,Y_train)\n",
        "  output = model.predict(X_test)\n",
        "  r2.append(r2_score(Y_test,output))\n",
        "plt.plot(r2)\n",
        "\n"
      ]
    },
    {
      "cell_type": "code",
      "execution_count": null,
      "metadata": {
        "id": "CAiKHfAui_Dp",
        "outputId": "4f891d57-47b1-47ed-fa85-f5a073883469",
        "colab": {
          "base_uri": "https://localhost:8080/"
        }
      },
      "outputs": [
        {
          "output_type": "stream",
          "name": "stdout",
          "text": [
            "0.549958626277703\n"
          ]
        }
      ],
      "source": [
        "## Best k is at n=4\n",
        "model = KNeighborsRegressor(n_neighbors=i).fit(X_train,Y_train)\n",
        "output = model.predict(X_test)\n",
        "print(r2_score(Y_test,output))"
      ]
    },
    {
      "cell_type": "markdown",
      "metadata": {
        "id": "VPN4te8Qi_Dp"
      },
      "source": [
        "### Our model have lower r2_score and better peformance."
      ]
    },
    {
      "cell_type": "code",
      "execution_count": null,
      "metadata": {
        "id": "oM9yxKcIi_Dp"
      },
      "outputs": [],
      "source": [
        ""
      ]
    }
  ],
  "metadata": {
    "colab": {
      "collapsed_sections": [],
      "name": "KNN_Hoang Cuong.ipynb",
      "provenance": []
    },
    "kernelspec": {
      "display_name": "Python 3",
      "name": "python3"
    },
    "language_info": {
      "codemirror_mode": {
        "name": "ipython",
        "version": 3
      },
      "file_extension": ".py",
      "mimetype": "text/x-python",
      "name": "python",
      "nbconvert_exporter": "python",
      "pygments_lexer": "ipython3",
      "version": "3.10.2"
    }
  },
  "nbformat": 4,
  "nbformat_minor": 0
}