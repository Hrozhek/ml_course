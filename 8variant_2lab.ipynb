{
 "cells": [
  {
   "cell_type": "code",
   "execution_count": 3,
   "id": "d97448f6",
   "metadata": {
    "scrolled": true
   },
   "outputs": [
    {
     "name": "stderr",
     "output_type": "stream",
     "text": [
      "c:\\users\\inkin-n\\pycharmprojects\\pythonproject\\venv\\lib\\site-packages\\sklearn\\utils\\validation.py:1688: FutureWarning: Feature names only support names that are all strings. Got feature names with dtypes: ['int', 'str']. An error will be raised in 1.2.\n",
      "  warnings.warn(\n",
      "c:\\users\\inkin-n\\pycharmprojects\\pythonproject\\venv\\lib\\site-packages\\sklearn\\utils\\validation.py:1688: FutureWarning: Feature names only support names that are all strings. Got feature names with dtypes: ['int', 'str']. An error will be raised in 1.2.\n",
      "  warnings.warn(\n",
      "c:\\users\\inkin-n\\pycharmprojects\\pythonproject\\venv\\lib\\site-packages\\sklearn\\utils\\validation.py:1688: FutureWarning: Feature names only support names that are all strings. Got feature names with dtypes: ['int', 'str']. An error will be raised in 1.2.\n",
      "  warnings.warn(\n",
      "c:\\users\\inkin-n\\pycharmprojects\\pythonproject\\venv\\lib\\site-packages\\sklearn\\utils\\validation.py:1688: FutureWarning: Feature names only support names that are all strings. Got feature names with dtypes: ['int', 'str']. An error will be raised in 1.2.\n",
      "  warnings.warn(\n"
     ]
    },
    {
     "name": "stdout",
     "output_type": "stream",
     "text": [
      "Coefficients for Y: MSE =  80.23398539000894 R² =  0.4863696280307911\n",
      "w0 =  -1.726240680212764\n",
      "w1 =  -0.8839017438461982\n",
      "w2 =  -0.6990878410817897\n",
      "w3 =  7.830099492020201\n",
      "w4 =  -11.934887711410008\n",
      "w5 =  -11.534037595335278\n",
      "w6 =  38.51983577597743\n",
      "Gradient descent\n"
     ]
    },
    {
     "data": {
      "text/plain": "<Figure size 432x288 with 1 Axes>",
      "image/png": "[encoded data removed]"
     },
     "metadata": {
      "needs_background": "light"
     },
     "output_type": "display_data"
    },
    {
     "name": "stdout",
     "output_type": "stream",
     "text": [
      "-----------------------\n",
      "L2 regularization for Y\n",
      "Coefficients for Y: MSE =  83.64343503434567 R² =  0.6075483794938421 L =  0.01\n",
      "w0 =  -1.6209382288626029\n",
      "w1 =  -1.4006930937240611\n",
      "w2 =  -2.7018572231948674\n",
      "w3 =  -0.025718031763182672\n",
      "w4 =  -3.2333926423717503\n",
      "w5 =  -3.744124396527779\n",
      "w6 =  34.27718752400094\n",
      "Gradient descent\n"
     ]
    },
    {
     "data": {
      "text/plain": "<Figure size 432x288 with 1 Axes>",
      "image/png": "[encoded data removed]"
     },
     "metadata": {
      "needs_background": "light"
     },
     "output_type": "display_data"
    },
    {
     "name": "stdout",
     "output_type": "stream",
     "text": [
      "-----------------------\n",
      "Coefficients with multi-start for Y: MSE =  80.23396890960443 R² =  0.4863680385915764\n",
      "w0 =  -1.7262320267142905\n",
      "w1 =  -0.88388840598105\n",
      "w2 =  -0.6990550199202188\n",
      "w3 =  7.830193562587652\n",
      "w4 =  -11.934987394249315\n",
      "w5 =  -11.534121041194506\n",
      "w6 =  38.51984520398126\n",
      "Gradient descent\n"
     ]
    },
    {
     "data": {
      "text/plain": "<Figure size 432x288 with 1 Axes>",
      "image/png": "[encoded data removed]"
     },
     "metadata": {
      "needs_background": "light"
     },
     "output_type": "display_data"
    },
    {
     "name": "stdout",
     "output_type": "stream",
     "text": [
      "-----------------------\n",
      "SKKLEARN:\n",
      "For Y R² =  0.6755074855579912\n",
      "\n",
      "With L2 regularization Y R² = \n",
      "For Y R² =  0.6403827154295514\n",
      "\n"
     ]
    }
   ],
   "source": [
    "import pandas as pd\n",
    "from sklearn.preprocessing import MinMaxScaler\n",
    "from sklearn.linear_model import LinearRegression\n",
    "import numpy\n",
    "import math\n",
    "from sklearn.metrics import r2_score\n",
    "from sklearn.linear_model import Ridge\n",
    "import matplotlib.pyplot as plt\n",
    "\n",
    "\n",
    "def skklearnLinearRegress(x, y, isL2 = False):\n",
    "    x = x.to_numpy()\n",
    "    y = y.to_numpy()\n",
    "    \n",
    "    Y = y\n",
    "\n",
    "    if(isL2):\n",
    "        reg = Ridge(alpha=1.0).fit(x, Y)\n",
    "        print(f'With L2 regularization Y R\\u00B2 = ')\n",
    "    else:   \n",
    "        reg = LinearRegression().fit(x, Y)\n",
    "    print(f'For Y R\\u00B2 = ', reg.score(x, Y))\n",
    "    print()\n",
    "def showGraph(values1, param=\"N\"):\n",
    "    x = []\n",
    "    for i in range(len(values1)):\n",
    "        x.append((i+1))\n",
    "    plt.plot(x, values1, linewidth=2.0, label=\"MSE\")\n",
    "    plt.xlabel(param)\n",
    "    plt.ylabel('MSE')\n",
    "    plt.legend()\n",
    "    plt.show()\n",
    "def showKoef(koefs):\n",
    "    i = 0\n",
    "    for elem in koefs:\n",
    "        print(f'w{i} = ', elem)\n",
    "        i+=1\n",
    "def normalizeData(dataSet):\n",
    "    normalizer = MinMaxScaler()\n",
    "    dataSet = normalizer.fit_transform(dataSet)\n",
    "    return pd.DataFrame(data=dataSet)\n",
    "def readData():\n",
    "    data = pd.read_csv(\"resources/yacht_hydrodynamics_cs.data\", header = None, sep = \",\")\n",
    "    trainData = data.iloc[:270,:]\n",
    "    testData = data.iloc[270:,:]\n",
    "    trainY = trainData[[6]]\n",
    "    testY = testData[[6]]\n",
    "    \n",
    "    trainData = trainData.drop([6], axis=1)\n",
    "    testData = testData.drop([6], axis=1)\n",
    "    \n",
    "    trainData.insert(0, \"w0\", numpy.random.rand(len(trainData.index)))\n",
    "    testData.insert(0, \"w0\", numpy.random.rand(len(testData.index)))\n",
    "    return [normalizeData(trainData), normalizeData(testData), trainY, testY]\n",
    "\n",
    "\n",
    "def L2reg(learningRate, koeffs, trainData, trainY):\n",
    "    minMSE = math.inf\n",
    "    bestKef = koeffs\n",
    "    bestL = math.inf\n",
    "    l = [0.01, 0.1, 0.5, 1, 3, 9, 50]\n",
    "    for i in range(len(l)):\n",
    "        koefsWithL, MSE, errors = gradienDescent(learningRate, koeffs, trainData, trainY, True, l[i])\n",
    "        if(MSE < minMSE):\n",
    "            minMSE = MSE\n",
    "            bestKef = koefsWithL\n",
    "            bestL = l[i]\n",
    "    return [bestKef, minMSE, bestL, errors]\n",
    "def calcR2(x, y, koeffs):\n",
    "    x = x.to_numpy()\n",
    "    y = y.to_numpy()\n",
    "    \n",
    "    Y = y\n",
    "    return r2_score(Y, numpy.dot(x, koeffs))\n",
    "def calcMSE(x,k,y):\n",
    "    return numpy.square(numpy.dot(x,k) - y).mean()\n",
    "def calcGradient(trainData, prediction, y):\n",
    "    return (2/len(trainData))*trainData.T.dot(prediction - y)\n",
    "def distance(v1, v2):\n",
    "    return numpy.sqrt(numpy.sum((v1 - v2) ** 2))\n",
    " \n",
    "def multistartGradientDescent(n, learningRate, trainData, trainY, dott = 100):\n",
    "    globalBestKef  = 0\n",
    "    MSE = math.inf\n",
    "    trainY_ = trainY.to_numpy()\n",
    "    trainData_ = trainData.to_numpy()\n",
    "    for i in range(dott):\n",
    "        numpy.random.seed(i)\n",
    "        koeffs_ = numpy.random.random(n)\n",
    "        localBestKef, MSElocal, errors = gradienDescent(learningRate, koeffs_, trainData, trainY)\n",
    "        if(MSElocal < MSE):\n",
    "            MSE = MSElocal\n",
    "            globalBestKef = localBestKef\n",
    "    return [globalBestKef, MSE, errors]\n",
    "def gradienDescent(learningRate, koeffs, trainData, trainY, L2 = False, lc = 0):\n",
    "    trainData = trainData.to_numpy()\n",
    "    trainY = trainY[6].to_list()\n",
    "    EPS = 0.001\n",
    "    Y = numpy.array(trainY)\n",
    "    oldkoeffs = numpy.ones(len(koeffs), dtype=numpy.int8)\n",
    "    koeffs = numpy.array(koeffs)\n",
    "    errors = []\n",
    "    while(distance(koeffs, oldkoeffs) > EPS):\n",
    "        prediction = numpy.dot(trainData,koeffs)\n",
    "        if(L2):\n",
    "            gradient = (2/len(trainData))*trainData.T.dot(prediction - Y) + lc*2*numpy.array(koeffs)\n",
    "        else:\n",
    "            gradient = (2/len(trainData))*trainData.T.dot(prediction - Y)\n",
    "        oldkoeffs = koeffs\n",
    "        koeffs = koeffs - learningRate*gradient \n",
    "        errors.append(calcMSE(trainData,koeffs,Y))\n",
    "    return [koeffs, calcMSE(trainData,koeffs,Y), errors]\n",
    "\n",
    "def main():\n",
    "    trainData, testData, trainY, testY = readData()\n",
    "    koeffs = []\n",
    "    for i in range(len(trainData.columns)):\n",
    "        koeffs.append(10)\n",
    "\n",
    "    \n",
    "    \n",
    "    oneKoefs, MSE1, errors = gradienDescent(0.01, koeffs, trainData, trainY, False)\n",
    "    print(\"Coefficients for Y:\", \"MSE = \", MSE1, \"R\\u00B2 = \", calcR2(testData, testY, oneKoefs))\n",
    "    showKoef(oneKoefs)\n",
    "    print(f'Gradient descent')\n",
    "    showGraph(errors)\n",
    "    print(f'-----------------------')\n",
    "    print(f'L2 regularization for Y')\n",
    "    \n",
    "    koeffsWithL2Y1, MSEL2Y1, Lkef1, errors = L2reg(0.01, koeffs, trainData, trainY)\n",
    "    print(\"Coefficients for Y:\", \"MSE = \", MSEL2Y1, \"R\\u00B2 = \", calcR2(testData, testY, koeffsWithL2Y1), \"L = \", Lkef1)\n",
    "    showKoef(koeffsWithL2Y1)\n",
    "    print(f'Gradient descent')\n",
    "    showGraph(errors)\n",
    "    \n",
    "    print(f'-----------------------')\n",
    "    oneMultiKoefs, MSE1multi, errors = multistartGradientDescent(len(koeffs), 0.01, trainData, trainY ,100)\n",
    "    print(\"Coefficients with multi-start for Y:\", \"MSE = \", MSE1multi, \"R\\u00B2 = \", calcR2(testData, testY, oneMultiKoefs))\n",
    "    showKoef(oneMultiKoefs)\n",
    "    print(f'Gradient descent')\n",
    "    showGraph(errors)\n",
    "    \n",
    "    print(f'-----------------------')\n",
    "    print(\"SKKLEARN:\")\n",
    "    skklearnLinearRegress(testData, testY)\n",
    "    skklearnLinearRegress(testData, testY, True)\n",
    "\n",
    "\n",
    "\n",
    "main()\n",
    "\n",
    "    "
   ]
  },
  {
   "cell_type": "code",
   "execution_count": null,
   "id": "9bb6992d",
   "metadata": {},
   "outputs": [],
   "source": []
  },
  {
   "cell_type": "code",
   "execution_count": null,
   "id": "e224154a",
   "metadata": {},
   "outputs": [],
   "source": []
  },
  {
   "cell_type": "code",
   "execution_count": null,
   "id": "30599a1f",
   "metadata": {},
   "outputs": [],
   "source": []
  }
 ],
 "metadata": {
  "kernelspec": {
   "display_name": "Python 3 (ipykernel)",
   "language": "python",
   "name": "python3"
  },
  "language_info": {
   "codemirror_mode": {
    "name": "ipython",
    "version": 3
   },
   "file_extension": ".py",
   "mimetype": "text/x-python",
   "name": "python",
   "nbconvert_exporter": "python",
   "pygments_lexer": "ipython3",
   "version": "3.9.2"
  }
 },
 "nbformat": 4,
 "nbformat_minor": 5
}